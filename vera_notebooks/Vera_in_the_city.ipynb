{
 "cells": [
  {
   "cell_type": "markdown",
   "metadata": {},
   "source": [
    "# Vera in the city project mapping\n",
    "\n",
    "We create tags on a map, where feedback forms are located.\n",
    "For this we do the following:\n",
    "\n",
    "    get locations (X,Y)\n",
    "    get tag information adjusted to timeline, e.g. t1 tag1: feedback form is attached, t2 tag1: feedback form is checked etc.\n",
    "    update information about tags and display them on a map.\n",
    "\n"
   ]
  },
  {
   "cell_type": "code",
   "execution_count": 16,
   "metadata": {},
   "outputs": [],
   "source": [
    "x1, y1 = 48.862337, 2.366640 # Rogier \n",
    "x2, y2 = 48.871529, 2.382836 # 79 Rue Julien Lacroix, 75020 Paris  Lezarts Paris 20\n",
    "x3, y3 = 48.870254, 2.383656 # Momo shop \n",
    "x4, y4 = 48.851111, 2.350759 #65 Quai de la Tournelle, 75005 Paris \n",
    "x5, y5 = 48.51038, 2.21026 # 48.878524, 2.384093 # Rue Buttes Ch. \n",
    "x6, y6 = 48.849265, 2.348795 # Paris museum of Prefecture police \n",
    "\n",
    "x,y = 48.8566, 2.3522\n",
    "\n",
    "\n"
   ]
  },
  {
   "cell_type": "markdown",
   "metadata": {},
   "source": [
    "# Plotting on a map "
   ]
  },
  {
   "cell_type": "code",
   "execution_count": 17,
   "metadata": {},
   "outputs": [
    {
     "name": "stdout",
     "output_type": "stream",
     "text": [
      "<class 'list'>\n"
     ]
    },
    {
     "data": {
      "text/html": [
       "<div style=\"width:100%;\"><div style=\"position:relative;width:100%;height:0;padding-bottom:60%;\"><iframe src=\"data:text/html;charset=utf-8;base64,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\" style=\"position:absolute;width:100%;height:100%;left:0;top:0;border:none !important;\" allowfullscreen webkitallowfullscreen mozallowfullscreen></iframe></div></div>"
      ],
      "text/plain": [
       "<folium.folium.Map at 0x1f3ed62eef0>"
      ]
     },
     "execution_count": 17,
     "metadata": {},
     "output_type": "execute_result"
    }
   ],
   "source": [
    "import numpy as np\n",
    "from matplotlib import pyplot as plt\n",
    "import numpy as np\n",
    "import matplotlib.cm as cm\n",
    "import folium\n",
    "\n",
    "\n",
    "#first we get datapoints from the file\n",
    "latitude = [x1,x2,x3,x4,x5,x]  # later we will read the data file from openstreetmaps \n",
    "longitude   =  [x1,x2,x3,x4,x5,y] #df.longitudestart.values\n",
    "\n",
    "print(type(latitude))\n",
    "\n",
    "\n",
    "#then we zip two arrays of lat, lon of datapoints\n",
    "latlon = list(zip(latitude, longitude))\n",
    "\n",
    "\n",
    "#We put map to show first location of Paris 48.8566° North, 2.3522° est\n",
    "# 40.7808 et la longitude de la ville de New York City est -73.9772.\n",
    "\n",
    "mapit = folium.Map( location=[48.75 , 2.35], zoom_start=6 )\n",
    "for coord in latlon:\n",
    "    folium.Marker( location=[ coord[0], coord[1] ], fill_color='#43d9de', radius=80 ).add_to( mapit )\n",
    "mapit\n",
    "SAF=folium.PolyLine(locations=latlon,weight=5,color = 'r')#color_array[ind])\n",
    "mapit.add_child(SAF)\n",
    "\n"
   ]
  },
  {
   "cell_type": "code",
   "execution_count": null,
   "metadata": {},
   "outputs": [],
   "source": []
  }
 ],
 "metadata": {
  "kernelspec": {
   "display_name": "Python 3",
   "language": "python",
   "name": "python3"
  },
  "language_info": {
   "codemirror_mode": {
    "name": "ipython",
    "version": 3
   },
   "file_extension": ".py",
   "mimetype": "text/x-python",
   "name": "python",
   "nbconvert_exporter": "python",
   "pygments_lexer": "ipython3",
   "version": "3.7.3"
  }
 },
 "nbformat": 4,
 "nbformat_minor": 4
}
